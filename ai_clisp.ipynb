{
 "cells": [
  {
   "cell_type": "code",
   "id": "initial_id",
   "metadata": {
    "collapsed": true,
    "ExecuteTime": {
     "end_time": "2024-09-30T09:03:06.809269Z",
     "start_time": "2024-09-30T09:03:01.711134Z"
    }
   },
   "source": "!pip install clipspy",
   "outputs": [
    {
     "name": "stdout",
     "output_type": "stream",
     "text": [
      "Requirement already satisfied: clipspy in c:\\users\\admin\\anaconda3\\lib\\site-packages (1.0.4)\n",
      "Requirement already satisfied: cffi>=1.0.0 in c:\\users\\admin\\anaconda3\\lib\\site-packages (from clipspy) (1.16.0)\n",
      "Requirement already satisfied: pycparser in c:\\users\\admin\\anaconda3\\lib\\site-packages (from cffi>=1.0.0->clipspy) (2.21)\n"
     ]
    }
   ],
   "execution_count": 2
  },
  {
   "metadata": {
    "ExecuteTime": {
     "end_time": "2024-09-30T09:03:06.968969Z",
     "start_time": "2024-09-30T09:03:06.886314Z"
    }
   },
   "cell_type": "code",
   "source": [
    "import clips\n",
    "env = clips.Environment()"
   ],
   "id": "5db025ee9a62b37d",
   "outputs": [],
   "execution_count": 3
  },
  {
   "metadata": {
    "ExecuteTime": {
     "end_time": "2024-09-30T09:03:07.000290Z",
     "start_time": "2024-09-30T09:03:06.975837Z"
    }
   },
   "cell_type": "code",
   "source": "env.load(\"C:\\\\Users\\\\admin\\\\Downloads\\\\rules_clisp.clp\")",
   "id": "bd7960cadc321805",
   "outputs": [],
   "execution_count": 4
  },
  {
   "metadata": {
    "ExecuteTime": {
     "end_time": "2024-09-30T09:03:07.026986Z",
     "start_time": "2024-09-30T09:03:07.017566Z"
    }
   },
   "cell_type": "code",
   "source": [
    "fact=env.assert_string('(sepalLength 5.1)')\n",
    "fact=env.assert_string('(sepalWidth 3.5)')\n",
    "fact=env.assert_string('(petalLength 1.4)')\n",
    "fact=env.assert_string('(petalWidth 0.2)')"
   ],
   "id": "96ad93509cf26516",
   "outputs": [],
   "execution_count": 5
  },
  {
   "metadata": {
    "ExecuteTime": {
     "end_time": "2024-09-30T09:03:07.051738Z",
     "start_time": "2024-09-30T09:03:07.038927Z"
    }
   },
   "cell_type": "code",
   "source": "fact",
   "id": "4febd454876352ab",
   "outputs": [
    {
     "data": {
      "text/plain": [
       "ImpliedFact: (petalWidth 0.2)"
      ]
     },
     "execution_count": 6,
     "metadata": {},
     "output_type": "execute_result"
    }
   ],
   "execution_count": 6
  },
  {
   "metadata": {
    "ExecuteTime": {
     "end_time": "2024-09-30T09:03:07.207571Z",
     "start_time": "2024-09-30T09:03:07.196480Z"
    }
   },
   "cell_type": "code",
   "source": "env.run()",
   "id": "2c651adc72911df4",
   "outputs": [
    {
     "data": {
      "text/plain": [
       "1"
      ]
     },
     "execution_count": 7,
     "metadata": {},
     "output_type": "execute_result"
    }
   ],
   "execution_count": 7
  },
  {
   "metadata": {
    "ExecuteTime": {
     "end_time": "2024-09-30T09:04:19.137825Z",
     "start_time": "2024-09-30T09:04:19.120019Z"
    }
   },
   "cell_type": "code",
   "source": "facts=env.facts()",
   "id": "c9a43beaf6ffcc5a",
   "outputs": [],
   "execution_count": 14
  },
  {
   "metadata": {
    "ExecuteTime": {
     "end_time": "2024-09-30T09:04:20.872649Z",
     "start_time": "2024-09-30T09:04:20.861832Z"
    }
   },
   "cell_type": "code",
   "source": "facts",
   "id": "a084114bf054e257",
   "outputs": [
    {
     "data": {
      "text/plain": [
       "<generator object Facts.facts at 0x000001669283F2A0>"
      ]
     },
     "execution_count": 15,
     "metadata": {},
     "output_type": "execute_result"
    }
   ],
   "execution_count": 15
  },
  {
   "metadata": {
    "ExecuteTime": {
     "end_time": "2024-09-30T09:04:22.787391Z",
     "start_time": "2024-09-30T09:04:22.770259Z"
    }
   },
   "cell_type": "code",
   "source": [
    "for f in facts:\n",
    "    print(f)"
   ],
   "id": "79597bf920caf936",
   "outputs": [
    {
     "name": "stdout",
     "output_type": "stream",
     "text": [
      "(sepalLength 5.1)\n",
      "(sepalWidth 3.5)\n",
      "(petalLength 1.4)\n",
      "(petalWidth 0.2)\n",
      "(Species \"Iris setosa\")\n"
     ]
    }
   ],
   "execution_count": 16
  },
  {
   "metadata": {},
   "cell_type": "code",
   "outputs": [],
   "execution_count": null,
   "source": "",
   "id": "e336f0a8d5ea2e2c"
  }
 ],
 "metadata": {
  "kernelspec": {
   "display_name": "Python 3",
   "language": "python",
   "name": "python3"
  },
  "language_info": {
   "codemirror_mode": {
    "name": "ipython",
    "version": 2
   },
   "file_extension": ".py",
   "mimetype": "text/x-python",
   "name": "python",
   "nbconvert_exporter": "python",
   "pygments_lexer": "ipython2",
   "version": "2.7.6"
  }
 },
 "nbformat": 4,
 "nbformat_minor": 5
}
