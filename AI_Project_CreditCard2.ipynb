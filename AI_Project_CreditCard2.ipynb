{
 "cells": [
  {
   "cell_type": "code",
   "id": "initial_id",
   "metadata": {
    "collapsed": true,
    "ExecuteTime": {
     "end_time": "2024-10-04T10:39:09.894166Z",
     "start_time": "2024-10-04T10:39:04.403137Z"
    }
   },
   "source": "!pip install xlrd",
   "outputs": [
    {
     "name": "stdout",
     "output_type": "stream",
     "text": [
      "Requirement already satisfied: xlrd in c:\\users\\admin\\anaconda3\\lib\\site-packages (2.0.1)\n"
     ]
    }
   ],
   "execution_count": 1
  },
  {
   "metadata": {
    "ExecuteTime": {
     "end_time": "2024-10-04T10:39:12.889662Z",
     "start_time": "2024-10-04T10:39:12.881295Z"
    }
   },
   "cell_type": "code",
   "source": [
    "import seaborn as sns\n",
    "import matplotlib.pyplot as plt\n",
    "import pandas as pd\n",
    "import random\n",
    "import datetime\n",
    "import statistics\n",
    "import scipy\n",
    "from scipy import stats\n"
   ],
   "id": "d43eef56bb5641ef",
   "outputs": [],
   "execution_count": 2
  },
  {
   "metadata": {
    "ExecuteTime": {
     "end_time": "2024-10-04T10:46:16.034716Z",
     "start_time": "2024-10-04T10:46:14.560731Z"
    }
   },
   "cell_type": "code",
   "source": [
    "clients = pd.read_excel(\"C:\\\\Users\\\\admin\\\\OneDrive - Auckland Institute of Studies\\\\Documents\\\\AIS\\\\AI\\\\DataSet\\\\default_credit_card_clients\\\\default_credit_card_clients.xls\")\n",
    "print(len(clients))\n",
    "clients.head()"
   ],
   "id": "c1eb4ed11e21be45",
   "outputs": [
    {
     "name": "stdout",
     "output_type": "stream",
     "text": [
      "30000\n"
     ]
    },
    {
     "data": {
      "text/plain": [
       "   ID  LIMIT_BAL  SEX  EDUCATION  MARRIAGE  AGE  PAY_0  PAY_2  PAY_3  PAY_4  \\\n",
       "0   1      20000    2          2         1   24      2      2     -1     -1   \n",
       "1   2     120000    2          2         2   26     -1      2      0      0   \n",
       "2   3      90000    2          2         2   34      0      0      0      0   \n",
       "3   4      50000    2          2         1   37      0      0      0      0   \n",
       "4   5      50000    1          2         1   57     -1      0     -1      0   \n",
       "\n",
       "   ...  BILL_AMT4  BILL_AMT5  BILL_AMT6  PAY_AMT1  PAY_AMT2  PAY_AMT3  \\\n",
       "0  ...          0          0          0         0       689         0   \n",
       "1  ...       3272       3455       3261         0      1000      1000   \n",
       "2  ...      14331      14948      15549      1518      1500      1000   \n",
       "3  ...      28314      28959      29547      2000      2019      1200   \n",
       "4  ...      20940      19146      19131      2000     36681     10000   \n",
       "\n",
       "   PAY_AMT4  PAY_AMT5  PAY_AMT6  DEFAULT  \n",
       "0         0         0         0        1  \n",
       "1      1000         0      2000        1  \n",
       "2      1000      1000      5000        0  \n",
       "3      1100      1069      1000        0  \n",
       "4      9000       689       679        0  \n",
       "\n",
       "[5 rows x 25 columns]"
      ],
      "text/html": [
       "<div>\n",
       "<style scoped>\n",
       "    .dataframe tbody tr th:only-of-type {\n",
       "        vertical-align: middle;\n",
       "    }\n",
       "\n",
       "    .dataframe tbody tr th {\n",
       "        vertical-align: top;\n",
       "    }\n",
       "\n",
       "    .dataframe thead th {\n",
       "        text-align: right;\n",
       "    }\n",
       "</style>\n",
       "<table border=\"1\" class=\"dataframe\">\n",
       "  <thead>\n",
       "    <tr style=\"text-align: right;\">\n",
       "      <th></th>\n",
       "      <th>ID</th>\n",
       "      <th>LIMIT_BAL</th>\n",
       "      <th>SEX</th>\n",
       "      <th>EDUCATION</th>\n",
       "      <th>MARRIAGE</th>\n",
       "      <th>AGE</th>\n",
       "      <th>PAY_0</th>\n",
       "      <th>PAY_2</th>\n",
       "      <th>PAY_3</th>\n",
       "      <th>PAY_4</th>\n",
       "      <th>...</th>\n",
       "      <th>BILL_AMT4</th>\n",
       "      <th>BILL_AMT5</th>\n",
       "      <th>BILL_AMT6</th>\n",
       "      <th>PAY_AMT1</th>\n",
       "      <th>PAY_AMT2</th>\n",
       "      <th>PAY_AMT3</th>\n",
       "      <th>PAY_AMT4</th>\n",
       "      <th>PAY_AMT5</th>\n",
       "      <th>PAY_AMT6</th>\n",
       "      <th>DEFAULT</th>\n",
       "    </tr>\n",
       "  </thead>\n",
       "  <tbody>\n",
       "    <tr>\n",
       "      <th>0</th>\n",
       "      <td>1</td>\n",
       "      <td>20000</td>\n",
       "      <td>2</td>\n",
       "      <td>2</td>\n",
       "      <td>1</td>\n",
       "      <td>24</td>\n",
       "      <td>2</td>\n",
       "      <td>2</td>\n",
       "      <td>-1</td>\n",
       "      <td>-1</td>\n",
       "      <td>...</td>\n",
       "      <td>0</td>\n",
       "      <td>0</td>\n",
       "      <td>0</td>\n",
       "      <td>0</td>\n",
       "      <td>689</td>\n",
       "      <td>0</td>\n",
       "      <td>0</td>\n",
       "      <td>0</td>\n",
       "      <td>0</td>\n",
       "      <td>1</td>\n",
       "    </tr>\n",
       "    <tr>\n",
       "      <th>1</th>\n",
       "      <td>2</td>\n",
       "      <td>120000</td>\n",
       "      <td>2</td>\n",
       "      <td>2</td>\n",
       "      <td>2</td>\n",
       "      <td>26</td>\n",
       "      <td>-1</td>\n",
       "      <td>2</td>\n",
       "      <td>0</td>\n",
       "      <td>0</td>\n",
       "      <td>...</td>\n",
       "      <td>3272</td>\n",
       "      <td>3455</td>\n",
       "      <td>3261</td>\n",
       "      <td>0</td>\n",
       "      <td>1000</td>\n",
       "      <td>1000</td>\n",
       "      <td>1000</td>\n",
       "      <td>0</td>\n",
       "      <td>2000</td>\n",
       "      <td>1</td>\n",
       "    </tr>\n",
       "    <tr>\n",
       "      <th>2</th>\n",
       "      <td>3</td>\n",
       "      <td>90000</td>\n",
       "      <td>2</td>\n",
       "      <td>2</td>\n",
       "      <td>2</td>\n",
       "      <td>34</td>\n",
       "      <td>0</td>\n",
       "      <td>0</td>\n",
       "      <td>0</td>\n",
       "      <td>0</td>\n",
       "      <td>...</td>\n",
       "      <td>14331</td>\n",
       "      <td>14948</td>\n",
       "      <td>15549</td>\n",
       "      <td>1518</td>\n",
       "      <td>1500</td>\n",
       "      <td>1000</td>\n",
       "      <td>1000</td>\n",
       "      <td>1000</td>\n",
       "      <td>5000</td>\n",
       "      <td>0</td>\n",
       "    </tr>\n",
       "    <tr>\n",
       "      <th>3</th>\n",
       "      <td>4</td>\n",
       "      <td>50000</td>\n",
       "      <td>2</td>\n",
       "      <td>2</td>\n",
       "      <td>1</td>\n",
       "      <td>37</td>\n",
       "      <td>0</td>\n",
       "      <td>0</td>\n",
       "      <td>0</td>\n",
       "      <td>0</td>\n",
       "      <td>...</td>\n",
       "      <td>28314</td>\n",
       "      <td>28959</td>\n",
       "      <td>29547</td>\n",
       "      <td>2000</td>\n",
       "      <td>2019</td>\n",
       "      <td>1200</td>\n",
       "      <td>1100</td>\n",
       "      <td>1069</td>\n",
       "      <td>1000</td>\n",
       "      <td>0</td>\n",
       "    </tr>\n",
       "    <tr>\n",
       "      <th>4</th>\n",
       "      <td>5</td>\n",
       "      <td>50000</td>\n",
       "      <td>1</td>\n",
       "      <td>2</td>\n",
       "      <td>1</td>\n",
       "      <td>57</td>\n",
       "      <td>-1</td>\n",
       "      <td>0</td>\n",
       "      <td>-1</td>\n",
       "      <td>0</td>\n",
       "      <td>...</td>\n",
       "      <td>20940</td>\n",
       "      <td>19146</td>\n",
       "      <td>19131</td>\n",
       "      <td>2000</td>\n",
       "      <td>36681</td>\n",
       "      <td>10000</td>\n",
       "      <td>9000</td>\n",
       "      <td>689</td>\n",
       "      <td>679</td>\n",
       "      <td>0</td>\n",
       "    </tr>\n",
       "  </tbody>\n",
       "</table>\n",
       "<p>5 rows × 25 columns</p>\n",
       "</div>"
      ]
     },
     "execution_count": 3,
     "metadata": {},
     "output_type": "execute_result"
    }
   ],
   "execution_count": 3
  },
  {
   "metadata": {
    "ExecuteTime": {
     "end_time": "2024-10-04T10:55:06.846176Z",
     "start_time": "2024-10-04T10:55:06.809096Z"
    }
   },
   "cell_type": "code",
   "source": [
    "clients = clients.sort_values(by='AGE')\n",
    "clients.reset_index()\n",
    "print('Age range of data set: %s - %s'%(clients['AGE'].min(), clients['AGE'].max()))"
   ],
   "id": "5240e295ba546de9",
   "outputs": [
    {
     "name": "stdout",
     "output_type": "stream",
     "text": [
      "Age range of data set: 21 - 79\n"
     ]
    }
   ],
   "execution_count": 4
  },
  {
   "metadata": {
    "ExecuteTime": {
     "end_time": "2024-10-04T10:58:25.935344Z",
     "start_time": "2024-10-04T10:58:25.913345Z"
    }
   },
   "cell_type": "code",
   "source": [
    "clients = clients.sort_values(by='LIMIT_BAL')\n",
    "clients.reset_index()\n",
    "print('Limit balance index: %d - %d:'%(clients['LIMIT_BAL'].min(), clients['LIMIT_BAL'].max()))"
   ],
   "id": "30e1da6127df8758",
   "outputs": [
    {
     "name": "stdout",
     "output_type": "stream",
     "text": [
      "Limit balance index: 10000 - 1000000\n"
     ]
    }
   ],
   "execution_count": 6
  },
  {
   "metadata": {
    "ExecuteTime": {
     "end_time": "2024-10-04T11:00:45.281650Z",
     "start_time": "2024-10-04T11:00:45.252948Z"
    }
   },
   "cell_type": "code",
   "source": [
    "clients = clients.sort_values(by='BILL_AMT1')\n",
    "clients.reset_index()\n",
    "print('Bill amount 1: %d - %d'%(clients['BILL_AMT1'].min(), clients['BILL_AMT1'].max()))"
   ],
   "id": "a73e8da3ac23a6c4",
   "outputs": [
    {
     "name": "stdout",
     "output_type": "stream",
     "text": [
      "Bill amount 1 -165580 - 964511:\n"
     ]
    }
   ],
   "execution_count": 7
  },
  {
   "metadata": {
    "ExecuteTime": {
     "end_time": "2024-10-04T11:06:33.726845Z",
     "start_time": "2024-10-04T11:06:33.702871Z"
    }
   },
   "cell_type": "code",
   "source": [
    "clients = clients.sort_values(by='BILL_AMT2')\n",
    "clients.reset_index()\n",
    "print('Bill amount 2: %d - %d'%(clients['BILL_AMT2'].min(), clients['BILL_AMT2'].max()))"
   ],
   "id": "de48bbc6b177899d",
   "outputs": [
    {
     "name": "stdout",
     "output_type": "stream",
     "text": [
      "Bill amount 2 -69777 - 983931:\n"
     ]
    }
   ],
   "execution_count": 8
  },
  {
   "metadata": {
    "ExecuteTime": {
     "end_time": "2024-10-04T11:11:13.762515Z",
     "start_time": "2024-10-04T11:11:13.743934Z"
    }
   },
   "cell_type": "code",
   "source": [
    "clients = clients.sort_values(by='BILL_AMT3')\n",
    "clients.reset_index()\n",
    "print('Bill amount 3: %d - %d'%(clients['BILL_AMT3'].min(), clients['BILL_AMT3'].max()))"
   ],
   "id": "43fa1d4364f9ad8c",
   "outputs": [
    {
     "name": "stdout",
     "output_type": "stream",
     "text": [
      "Bill amount 3 -157264 - 1664089:\n"
     ]
    }
   ],
   "execution_count": 9
  },
  {
   "metadata": {
    "ExecuteTime": {
     "end_time": "2024-10-04T11:22:17.847968Z",
     "start_time": "2024-10-04T11:22:17.816027Z"
    }
   },
   "cell_type": "code",
   "source": [
    "clients = clients.sort_values(by='BILL_AMT4')\n",
    "clients.reset_index()\n",
    "print('Bill amount 4: %d - %d'%(clients['BILL_AMT4'].min(), clients['BILL_AMT4'].max()))"
   ],
   "id": "e36f24500ad2bfe",
   "outputs": [
    {
     "name": "stdout",
     "output_type": "stream",
     "text": [
      "Bill amount 4: -170000 - 891586\n"
     ]
    }
   ],
   "execution_count": 10
  },
  {
   "metadata": {
    "ExecuteTime": {
     "end_time": "2024-10-04T11:23:22.158298Z",
     "start_time": "2024-10-04T11:23:22.120901Z"
    }
   },
   "cell_type": "code",
   "source": [
    "clients = clients.sort_values(by='BILL_AMT5')\n",
    "clients.reset_index()\n",
    "print('Bill amount 5: %d - %d'%(clients['BILL_AMT5'].min(), clients['BILL_AMT5'].max()))"
   ],
   "id": "4be16c291af1aaf3",
   "outputs": [
    {
     "name": "stdout",
     "output_type": "stream",
     "text": [
      "Bill amount 5: -81334 - 927171\n"
     ]
    }
   ],
   "execution_count": 12
  },
  {
   "metadata": {
    "ExecuteTime": {
     "end_time": "2024-10-04T11:24:04.851730Z",
     "start_time": "2024-10-04T11:24:04.822086Z"
    }
   },
   "cell_type": "code",
   "source": [
    "clients = clients.sort_values(by='BILL_AMT6')\n",
    "clients.reset_index()\n",
    "print('Bill amount 6: %d - %d'%(clients['BILL_AMT6'].min(), clients['BILL_AMT6'].max()))"
   ],
   "id": "d1d42e34379b8f98",
   "outputs": [
    {
     "name": "stdout",
     "output_type": "stream",
     "text": [
      "Bill amount 6: -339603 - 961664\n"
     ]
    }
   ],
   "execution_count": 13
  },
  {
   "metadata": {
    "ExecuteTime": {
     "end_time": "2024-10-04T11:54:51.046066Z",
     "start_time": "2024-10-04T11:54:50.881600Z"
    }
   },
   "cell_type": "code",
   "source": [
    "group_by_education = clients.groupby('SEX').size()\n",
    "group_by_education.plot.bar(title=\"Distribution of Sex\")"
   ],
   "id": "c94de62a07b0aa7c",
   "outputs": [
    {
     "data": {
      "text/plain": [
       "<Axes: title={'center': 'Distribution of Sex'}, xlabel='SEX'>"
      ]
     },
     "execution_count": 17,
     "metadata": {},
     "output_type": "execute_result"
    },
    {
     "data": {
      "text/plain": [
       "<Figure size 640x480 with 1 Axes>"
      ],
      "image/png": "[encoded data removed]"
     },
     "metadata": {},
     "output_type": "display_data"
    }
   ],
   "execution_count": 17
  },
  {
   "metadata": {
    "ExecuteTime": {
     "end_time": "2024-10-04T11:56:42.279745Z",
     "start_time": "2024-10-04T11:56:41.742368Z"
    }
   },
   "cell_type": "code",
   "source": [
    "clients = clients.sort_values(by='AGE')\n",
    "group_by_age = clients.groupby('AGE').size()\n",
    "group_by_age.plot.bar(title=\"Distribution of Age\", figsize=(15,4))"
   ],
   "id": "b826b1469a3297a5",
   "outputs": [
    {
     "data": {
      "text/plain": [
       "<Axes: title={'center': 'Distribution of Age'}, xlabel='AGE'>"
      ]
     },
     "execution_count": 18,
     "metadata": {},
     "output_type": "execute_result"
    },
    {
     "data": {
      "text/plain": [
       "<Figure size 1500x400 with 1 Axes>"
      ],
      "image/png": "[encoded data removed]"
     },
     "metadata": {},
     "output_type": "display_data"
    }
   ],
   "execution_count": 18
  },
  {
   "metadata": {
    "ExecuteTime": {
     "end_time": "2024-10-04T12:00:17.712267Z",
     "start_time": "2024-10-04T12:00:17.572642Z"
    }
   },
   "cell_type": "code",
   "source": [
    "data_youngster = clients[(clients['AGE']>=22) & (clients['AGE']<=40)]\n",
    "group_by_youngster = data_youngster.groupby('DEFAULT').size()\n",
    "group_by_youngster.plot.bar(title=\"Distribution of Young\")"
   ],
   "id": "2ff26b4dac0ed3a9",
   "outputs": [
    {
     "data": {
      "text/plain": [
       "<Axes: title={'center': 'Distribution of Young'}, xlabel='DEFAULT'>"
      ]
     },
     "execution_count": 20,
     "metadata": {},
     "output_type": "execute_result"
    },
    {
     "data": {
      "text/plain": [
       "<Figure size 640x480 with 1 Axes>"
      ],
      "image/png": "[encoded data removed]"
     },
     "metadata": {},
     "output_type": "display_data"
    }
   ],
   "execution_count": 20
  },
  {
   "metadata": {
    "ExecuteTime": {
     "end_time": "2024-10-04T12:06:26.908314Z",
     "start_time": "2024-10-04T12:06:26.377437Z"
    }
   },
   "cell_type": "code",
   "source": [
    "group_by_age_sex = clients.groupby(['AGE', 'SEX'])['AGE'].count().unstack('SEX').fillna(0)\n",
    "\n",
    "group_by_age_sex[[1,2]].plot.bar(title='Distribution of Age by Gender', stacked=True, figsize=(15,4))"
   ],
   "id": "525a3923f505ad09",
   "outputs": [
    {
     "data": {
      "text/plain": [
       "<Axes: title={'center': 'Distribution of Age by Gender'}, xlabel='AGE'>"
      ]
     },
     "execution_count": 27,
     "metadata": {},
     "output_type": "execute_result"
    },
    {
     "data": {
      "text/plain": [
       "<Figure size 1500x400 with 1 Axes>"
      ],
      "image/png": "[encoded data removed]"
     },
     "metadata": {},
     "output_type": "display_data"
    }
   ],
   "execution_count": 27
  },
  {
   "metadata": {},
   "cell_type": "code",
   "outputs": [],
   "execution_count": null,
   "source": "",
   "id": "150dcccf8749d624"
  }
 ],
 "metadata": {
  "kernelspec": {
   "display_name": "Python 3",
   "language": "python",
   "name": "python3"
  },
  "language_info": {
   "codemirror_mode": {
    "name": "ipython",
    "version": 2
   },
   "file_extension": ".py",
   "mimetype": "text/x-python",
   "name": "python",
   "nbconvert_exporter": "python",
   "pygments_lexer": "ipython2",
   "version": "2.7.6"
  }
 },
 "nbformat": 4,
 "nbformat_minor": 5
}
