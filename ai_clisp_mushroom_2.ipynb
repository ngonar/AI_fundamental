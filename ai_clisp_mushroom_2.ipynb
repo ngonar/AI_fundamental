{
 "cells": [
  {
   "cell_type": "code",
   "id": "initial_id",
   "metadata": {
    "collapsed": true,
    "ExecuteTime": {
     "end_time": "2024-10-06T10:00:29.307918Z",
     "start_time": "2024-10-06T10:00:29.258800Z"
    }
   },
   "source": [
    "import clips\n",
    "env = clips.Environment()\n",
    "env.load(\"C:\\\\Users\\\\admin\\\\Downloads\\\\clisp_mushroom_rule.clp\")"
   ],
   "outputs": [],
   "execution_count": 1
  },
  {
   "metadata": {
    "ExecuteTime": {
     "end_time": "2024-10-06T10:00:36.826528Z",
     "start_time": "2024-10-06T10:00:36.698138Z"
    }
   },
   "cell_type": "code",
   "source": [
    "import numpy as np\n",
    "mushroom = np.loadtxt(\"C:\\\\Users\\\\admin\\\\Downloads\\\\mushroom.txt\", delimiter=',')"
   ],
   "id": "fc9d1370378d2018",
   "outputs": [],
   "execution_count": 3
  },
  {
   "metadata": {
    "ExecuteTime": {
     "end_time": "2024-10-06T10:00:38.218718Z",
     "start_time": "2024-10-06T10:00:38.201875Z"
    }
   },
   "cell_type": "code",
   "source": [
    "mush_in = mushroom[:,0:121]\n",
    "mush_in.shape"
   ],
   "id": "269501db20de1a19",
   "outputs": [
    {
     "data": {
      "text/plain": [
       "(8124, 121)"
      ]
     },
     "execution_count": 4,
     "metadata": {},
     "output_type": "execute_result"
    }
   ],
   "execution_count": 4
  },
  {
   "metadata": {
    "ExecuteTime": {
     "end_time": "2024-10-06T10:00:39.017083Z",
     "start_time": "2024-10-06T10:00:39.003198Z"
    }
   },
   "cell_type": "code",
   "source": [
    "mush_out = mushroom[:,122]\n",
    "mush_out.shape"
   ],
   "id": "adbaf0eade096964",
   "outputs": [
    {
     "data": {
      "text/plain": [
       "(8124,)"
      ]
     },
     "execution_count": 5,
     "metadata": {},
     "output_type": "execute_result"
    }
   ],
   "execution_count": 5
  },
  {
   "metadata": {
    "ExecuteTime": {
     "end_time": "2024-10-06T10:00:39.676847Z",
     "start_time": "2024-10-06T10:00:39.656196Z"
    }
   },
   "cell_type": "code",
   "source": "mush_out",
   "id": "b553e0e5b88f487d",
   "outputs": [
    {
     "data": {
      "text/plain": [
       "array([1., 0., 0., ..., 0., 1., 1.])"
      ]
     },
     "execution_count": 6,
     "metadata": {},
     "output_type": "execute_result"
    }
   ],
   "execution_count": 6
  },
  {
   "metadata": {
    "ExecuteTime": {
     "end_time": "2024-10-06T10:00:40.662249Z",
     "start_time": "2024-10-06T10:00:40.650824Z"
    }
   },
   "cell_type": "code",
   "source": [
    "outputValues = []\n",
    "featureList = [7,21,22,27,37,52,63,67,97,104,110]"
   ],
   "id": "bf1f4263be16786f",
   "outputs": [],
   "execution_count": 7
  },
  {
   "metadata": {
    "ExecuteTime": {
     "end_time": "2024-10-06T11:07:26.036701700Z",
     "start_time": "2024-10-06T10:25:59.898771Z"
    }
   },
   "cell_type": "code",
   "source": [
    "for currRow in mush_in:\n",
    "    for i in featureList:\n",
    "        fValue = currRow[i]\n",
    "        sValue = str(fValue)\n",
    "        sIndex = str(i)\n",
    "        sFact = '(feature_'+ sIndex + ' ' + sValue +')'\n",
    "        fact = env.assert_string(sFact)\n",
    "        \n",
    "    r = env.run()\n",
    "    \n",
    "    facts = env.facts()\n",
    "    iOutputValue = 0\n",
    "    for f in facts:\n",
    "        sFactName = f.template.name\n",
    "        \n",
    "        if sFactName == 'Mushroom':\n",
    "            sValue = f[0]\n",
    "            if sValue == 'true':\n",
    "                iOutputValue = 1 \n",
    "    outputValues.append(iOutputValue)\n",
    "    env.reset()"
   ],
   "id": "ea98a82befe856b7",
   "outputs": [
    {
     "ename": "KeyboardInterrupt",
     "evalue": "",
     "output_type": "error",
     "traceback": [
      "\u001B[1;31m---------------------------------------------------------------------------\u001B[0m",
      "\u001B[1;31mKeyboardInterrupt\u001B[0m                         Traceback (most recent call last)",
      "Cell \u001B[1;32mIn[10], line 21\u001B[0m\n\u001B[0;32m     19\u001B[0m             iOutputValue \u001B[38;5;241m=\u001B[39m \u001B[38;5;241m1\u001B[39m \n\u001B[0;32m     20\u001B[0m outputValues\u001B[38;5;241m.\u001B[39mappend(iOutputValue)\n\u001B[1;32m---> 21\u001B[0m env\u001B[38;5;241m.\u001B[39mreset()\n",
      "File \u001B[1;32m~\\anaconda3\\Lib\\site-packages\\clips\\environment.py:175\u001B[0m, in \u001B[0;36mEnvironment.reset\u001B[1;34m(self)\u001B[0m\n\u001B[0;32m    169\u001B[0m \u001B[38;5;28;01mdef\u001B[39;00m \u001B[38;5;21mreset\u001B[39m(\u001B[38;5;28mself\u001B[39m):\n\u001B[0;32m    170\u001B[0m \u001B[38;5;250m    \u001B[39m\u001B[38;5;124;03m\"\"\"Reset the CLIPS environment.\u001B[39;00m\n\u001B[0;32m    171\u001B[0m \n\u001B[0;32m    172\u001B[0m \u001B[38;5;124;03m    Equivalent to the CLIPS (reset) function.\u001B[39;00m\n\u001B[0;32m    173\u001B[0m \n\u001B[0;32m    174\u001B[0m \u001B[38;5;124;03m    \"\"\"\u001B[39;00m\n\u001B[1;32m--> 175\u001B[0m     \u001B[38;5;28;01mif\u001B[39;00m lib\u001B[38;5;241m.\u001B[39mReset(\u001B[38;5;28mself\u001B[39m\u001B[38;5;241m.\u001B[39m_env):\n\u001B[0;32m    176\u001B[0m         \u001B[38;5;28;01mraise\u001B[39;00m CLIPSError(\u001B[38;5;28mself\u001B[39m\u001B[38;5;241m.\u001B[39m_env)\n",
      "\u001B[1;31mKeyboardInterrupt\u001B[0m: "
     ]
    }
   ],
   "execution_count": 10
  },
  {
   "metadata": {},
   "cell_type": "code",
   "outputs": [],
   "execution_count": null,
   "source": "",
   "id": "8597d7718a9e26fa"
  }
 ],
 "metadata": {
  "kernelspec": {
   "display_name": "Python 3",
   "language": "python",
   "name": "python3"
  },
  "language_info": {
   "codemirror_mode": {
    "name": "ipython",
    "version": 2
   },
   "file_extension": ".py",
   "mimetype": "text/x-python",
   "name": "python",
   "nbconvert_exporter": "python",
   "pygments_lexer": "ipython2",
   "version": "2.7.6"
  }
 },
 "nbformat": 4,
 "nbformat_minor": 5
}
